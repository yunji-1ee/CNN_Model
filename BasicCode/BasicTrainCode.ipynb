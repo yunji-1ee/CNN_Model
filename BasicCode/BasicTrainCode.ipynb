{
 "cells": [
  {
   "cell_type": "markdown",
   "metadata": {},
   "source": [
    "# Import for Code"
   ]
  },
  {
   "cell_type": "code",
   "execution_count": null,
   "metadata": {},
   "outputs": [],
   "source": [
    "import torch  # PyTorch library\n",
    "import torch.nn as nn  # Module for neural networks\n",
    "import torch.optim as optim  # Optimization algorithms\n",
    "import torchvision.transforms as transforms  # Module for image transformations\n",
    "from torchvision import datasets  # Image datasets\n",
    "from torch.utils.data import DataLoader  # Data loaders \n",
    "import matplotlib.pyplot as plt  # Visualization tool\n",
    "import numpy as np  # Mathematical and array manipulation tool\n",
    "from collections import Counter  # Tool for counting elements\n",
    "import torchvision.models as models  # Pre-trained models\n",
    "from sklearn.metrics import accuracy_score, precision_score, recall_score, f1_score, roc_auc_score  # Evaluation metrics\n",
    "from sklearn.model_selection import train_test_split  # Dataset splitting\n",
    "import optuna  # Hyperparameter optimization tool\n",
    "import os  # Operating system-related tool\n",
    "import csv  # Tool for handling CSV files"
   ]
  },
  {
   "cell_type": "markdown",
   "metadata": {},
   "source": [
    "# Plotting \n",
    "aims to visualize the training and validation losses per epoch and the validation accuracy per epoch. Additionally, it plots the micro-average AUROC (Area Under the Receiver Operating Characteristic curve) during training."
   ]
  },
  {
   "cell_type": "code",
   "execution_count": null,
   "metadata": {},
   "outputs": [],
   "source": [
    "# Plotting the training and validation loss\n",
    "def draw_train_val_curve(train_losses, val_losses, val_accuracies, val_micro_aurocs):\n",
    "    plt.figure(figsize=(10, 6))\n",
    "    plt.plot(train_losses, label='Training Loss')\n",
    "    plt.plot(val_losses, label='Validation Loss')\n",
    "    plt.title(\"Training and Validation Losses per Epoch\")\n",
    "    plt.xlabel('Epochs')\n",
    "    plt.ylabel('Loss')\n",
    "    plt.legend()\n",
    "    plt.savefig('train_val_losses_p_epoch.png')\n",
    "    plt.close()\n",
    "    plt.clf()\n",
    "\n",
    "    plt.figure(figsize=(10, 6))\n",
    "    val_accuracies_cpu = [acc.cpu().numpy() for acc in val_accuracies]\n",
    "    plt.plot(val_accuracies_cpu, label='Validation Accuracy')\n",
    "    plt.title('Validation Accuracy per Epoch')\n",
    "    plt.xlabel('Epochs')\n",
    "    plt.ylabel('Accuracy')\n",
    "    plt.legend()\n",
    "    plt.savefig('val_acc_p_epoch.png')\n",
    "    plt.close()\n",
    "    plt.clf()\n",
    "\n",
    "    plt.figure(figsize=(10, 6))\n",
    "    plt.plot(val_micro_aurocs, label='Micro-average AUROC (Training)')\n",
    "    plt.title('Micro-average AUROC per Epoch (Training)')\n",
    "    plt.xlabel('Epochs')\n",
    "    plt.ylabel('AUROC')\n",
    "    plt.legend()\n",
    "    plt.savefig('val_micro_auroc_p_epoch.png')\n",
    "    plt.close()\n",
    "    plt.clf()\n"
   ]
  },
  {
   "cell_type": "markdown",
   "metadata": {},
   "source": [
    "# Select HyperParameter "
   ]
  },
  {
   "cell_type": "code",
   "execution_count": null,
   "metadata": {},
   "outputs": [],
   "source": [
    "torch.set_num_threads(1)\n",
    "os.environ[\"CUDA_VISIBLE_DEVICES\"] = \"0\"\n",
    "\n",
    "Image_Size = 227 \n",
    "Num_Epochs = 5\n",
    "Learning_Rate = 0.0001 \n",
    "Batch_Size = 8\n",
    "Model_Name = 'Model_name'"
   ]
  },
  {
   "cell_type": "markdown",
   "metadata": {},
   "source": [
    "# DataPreprocessing\n",
    "Manipulation and transformation of raw data into a format before analysis of data"
   ]
  },
  {
   "cell_type": "code",
   "execution_count": null,
   "metadata": {},
   "outputs": [],
   "source": [
    "train_transform = transforms.Compose([\n",
    "    transforms.Resize((227, 227)),          \n",
    "    transforms.ToTensor(), \n",
    "])\n",
    "\n",
    "val_transform = transforms.Compose([\n",
    "        transforms.Resize((227, 227)), \n",
    "        transforms.ToTensor()\n",
    "])"
   ]
  },
  {
   "cell_type": "markdown",
   "metadata": {},
   "source": [
    "# DataLoad\n",
    "Data loading involves the process of reading and loading data into memory\n",
    "Data Preparation: preparing the data into a usable format.\n",
    "Data Loading: data is loaded into memory.\n",
    "Mini-Batch Formation: Handling large datasets all at once can be inefficient, so the data is often divided into smaller batches.\n",
    "Data Shuffling: prevent the model from learning any spurious patterns based on the order of the data.\n"
   ]
  },
  {
   "cell_type": "code",
   "execution_count": null,
   "metadata": {},
   "outputs": [],
   "source": [
    "train_dir = \"your train_dataset\"\n",
    "val_dir = \"your val_dataset\"\n",
    "\n",
    "train_dataset = datasets.ImageFolder(train_dir, transform=train_transform)\n",
    "val_dataset = datasets.ImageFolder(val_dir, transform=val_transform)\n",
    "\n",
    "train_loader = DataLoader(train_dataset, batch_size = Batch_Size, shuffle=True)\n",
    "val_loader = DataLoader(val_dataset, batch_size = Batch_Size, shuffle =False)\n",
    "\n",
    "class_names = train_dataset.classes\n",
    "num_classes = len(train_dataset.classes)"
   ]
  },
  {
   "cell_type": "markdown",
   "metadata": {},
   "source": [
    "# Model Load\n",
    "example(Resnet)"
   ]
  },
  {
   "cell_type": "code",
   "execution_count": null,
   "metadata": {},
   "outputs": [],
   "source": [
    "weights = models.ResNet50_Weights.IMAGENET1K_V1\n",
    "model = models.resnet50(weights=weights)\n",
    "classifier = model.fc\n",
    "last_layer_in_features = classifier.in_features\n",
    "model.fc = nn.Linear(last_layer_in_features, num_classes)\n",
    "\n",
    "criterion = nn.CrossEntropyLoss()\n",
    "optimizer = optim.Adam(model.parameters(), lr = Learning_Rate)\n",
    "\n",
    "device = torch.device(\"cuda\" if torch.cuda.is_available() else\"cpu\")\n",
    "model.to(device)"
   ]
  },
  {
   "cell_type": "markdown",
   "metadata": {},
   "source": [
    "# Model Train, Val"
   ]
  },
  {
   "cell_type": "code",
   "execution_count": null,
   "metadata": {},
   "outputs": [],
   "source": [
    "best_val_loss = float('inf')\n",
    "best_val_acc = float(0.0)\n",
    "best_val_auroc = float(0.0)\n",
    "p_acc_counter =0 \n",
    "p_loss_counter = 0\n",
    "p_auroc_counter = 0\n",
    "\n",
    "patience = 300  # Number of epochs to wait for improvement before stopping\n",
    "patience_counter = 0\n",
    "train_losses =[]\n",
    "val_losses=[]\n",
    "val_accuracies =[]\n",
    "all_preds=[]\n",
    "all_labels =[]\n",
    "val_micro_aurocs = []\n",
    "log_file_path = 'training_log.txt'\n",
    "csv_file_path = 'training_metrics.csv'\n",
    "\n",
    "for epoch in range(Num_Epochs):\n",
    "    model.train()\n",
    "    train_loss = 0.0\n",
    "    for images, labels in train_loader:\n",
    "        images, labels = images.to(device), labels.to(device)\n",
    "        optimizer.zero_grad()\n",
    "        outputs = model(images)\n",
    "        loss = criterion(outputs, labels)\n",
    "        loss.backward()\n",
    "        optimizer.step()\n",
    "        train_loss += loss.item() * images.size(0)\n",
    "        \n",
    "    model.eval()\n",
    "    val_loss = 0.0\n",
    "    val_corrects = 0\n",
    "    val_labels = []\n",
    "    val_probas = []  # Later used for detailed predictions\n",
    "    with torch.no_grad():  # Deactivate gradient calculation\n",
    "        for images, labels in val_loader:\n",
    "            images, labels = images.to(device), labels.to(device)  # Move data to appropriate device\n",
    "            outputs = model(images)  # Perform prediction through the model\n",
    "            loss = criterion(outputs, labels)  # Calculate loss\n",
    "            val_loss += loss.item() * images.size(0)  # Accumulate loss\n",
    "            _, preds = torch.max(outputs, 1)  # Extract class with highest probability\n",
    "            probabilities = torch.nn.functional.softmax(outputs, dim=1)  # Calculate probabilities of each class\n",
    "\n",
    "            # Calculate accuracy and save labels\n",
    "            val_corrects += torch.sum(preds == labels.data)  # Accumulate number of correctly predicted\n",
    "            all_preds.extend(preds.cpu().numpy())  # Save prediction results\n",
    "            all_labels.extend(labels.cpu().numpy())  # Save actual labels\n",
    "            val_labels.extend(labels.cpu().numpy())  # Save actual labels\n",
    "            val_probas.extend(probabilities.cpu().numpy())  # Save prediction probabilities\n",
    "        val_probas = np.array(val_probas)\n",
    "        val_labels = np.array(val_labels)\n",
    "\n",
    "        train_loss = train_loss / len(train_loader.dataset)\n",
    "        val_loss = val_loss / len(val_loader.dataset)\n",
    "        val_accuracy = val_corrects.double() / len(val_loader.dataset)\n",
    "        val_auroc = roc_auc_score(val_labels,val_probas,average='micro',multi_class='ovr')\n",
    "\n",
    "        train_losses.append(train_loss)\n",
    "        val_losses.append(val_loss)\n",
    "        val_accuracies.append(val_accuracy)\n",
    "        val_micro_aurocs.append(val_auroc)\n",
    "        draw_train_val_curve(train_losses,val_losses,val_accuracies,val_micro_aurocs)\n",
    "\n",
    "    # Write metrics to CSV file\n",
    "    with open(csv_file_path, 'a', newline='') as csv_file:\n",
    "        csv_writer = csv.writer(csv_file)\n",
    "        csv_writer.writerow([epoch + 1, train_loss, val_auroc, val_loss, val_accuracy])\n",
    "\n",
    "    # Check for improvement in validation loss, accuracy, and AUROC\n",
    "    if val_loss < best_val_loss:\n",
    "        best_val_loss = val_loss\n",
    "        torch.save(model.state_dict(), 'valloss.pth')\n",
    "        p_loss_counter = 0\n",
    "    else:\n",
    "        p_loss_counter+=1\n",
    "    if val_accuracy > best_val_acc:\n",
    "        best_val_acc = val_accuracy\n",
    "        torch.save(model.state_dict(), 'valacc.pth')\n",
    "        p_acc_counter = 0\n",
    "    else:\n",
    "        p_acc_counter+=1\n",
    "    if val_auroc >  best_val_auroc:\n",
    "        best_val_auroc = val_auroc\n",
    "        torch.save(model.state_dict(), 'auroc.pth')\n",
    "        p_auroc_counter = 0\n",
    "    else:\n",
    "        p_auroc_counter+=1\n",
    "\n",
    "    # Check patience\n",
    "    if patience_counter >= patience:\n",
    "        print(\"Stopping early due to no improvement in validation loss.\")\n",
    "        break \n",
    "\n",
    "    torch.save(model.state_dict(), 'epoch.pth')\n",
    "\n",
    "    # Log training progress\n",
    "    with open(log_file_path, 'a') as log_file:\n",
    "        log_file.write(f\"Epoch {epoch+1}/{Num_Epochs}, Train Loss: {train_loss:.4f}, Val auroc:{val_auroc}, Val Loss: {val_loss:.4f}, Val Acc: {val_accuracy}, patience counter(acc,loss,auroc): {p_acc_counter},{p_loss_counter},{p_auroc_counter}\\n\")\n"
   ]
  }
 ],
 "metadata": {
  "kernelspec": {
   "display_name": "py310",
   "language": "python",
   "name": "python3"
  },
  "language_info": {
   "codemirror_mode": {
    "name": "ipython",
    "version": 3
   },
   "file_extension": ".py",
   "mimetype": "text/x-python",
   "name": "python",
   "nbconvert_exporter": "python",
   "pygments_lexer": "ipython3",
   "version": "3.10.13"
  }
 },
 "nbformat": 4,
 "nbformat_minor": 2
}
